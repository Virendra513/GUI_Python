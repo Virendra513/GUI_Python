{
 "cells": [
  {
   "cell_type": "markdown",
   "id": "f528613d",
   "metadata": {},
   "source": [
    "# Login form with tkinter library"
   ]
  },
  {
   "cell_type": "code",
   "execution_count": 30,
   "id": "d5a9de72",
   "metadata": {},
   "outputs": [],
   "source": [
    "# Import Libraries\n",
    "from tkinter import *\n",
    "from PIL import ImageTk, Image\n",
    "from tkinter import messagebox"
   ]
  },
  {
   "cell_type": "code",
   "execution_count": 36,
   "id": "6fd62a7c",
   "metadata": {},
   "outputs": [],
   "source": [
    "def handle_login():\n",
    "    email= email_input.get()\n",
    "    password=email_input.get()\n",
    "    \n",
    "    if email=='abc@gmail' and password=='1234':\n",
    "        messagebox.showinfo('Yayy','Login Successful')\n",
    "    else:\n",
    "         messagebox.showinfo('Error','Try Again')\n",
    "\n",
    "\n",
    "root= Tk() \n",
    "root.title('Login Form')\n",
    "root.iconbitmap(\"E:\\Download\\car.png\")\n",
    "\n",
    "# Size control\n",
    "root.minsize(100,100)\n",
    "\n",
    "root.maxsize(720,720)\n",
    "\n",
    "root.geometry('720x840') \n",
    "#Back ground colour\n",
    "root.configure(background='#0096DC')\n",
    "\n",
    "# Put image on window\n",
    "img= Image.open('E:/Download/car.png')\n",
    "resized_img=img.resize((200,150))\n",
    "img=ImageTk.PhotoImage(resized_img)\n",
    "\n",
    "img_label=Label(root, image=img)\n",
    "\n",
    "img_label.pack(pady=(10,10)) \n",
    "\n",
    "# Text\n",
    "text_label= Label(root, text='BigCalibre', fg='white',bg='#0096DC')\n",
    "text_label.pack(pady=(10,10))\n",
    "text_label.config(font=('verdana',24))\n",
    "\n",
    "# Email Label\n",
    "email_label=Label(root,text='Enter Email', fg='white',bg='#0096DC')\n",
    "email_label.pack()\n",
    "email_label.config(font=('verdana',14))\n",
    "\n",
    "# Email Input\n",
    "email_input = Entry(root, width=60)\n",
    "email_input.pack(ipady=6,pady=(1,15))\n",
    "\n",
    "# Password Label\n",
    "password_label=Label(root,text='Enter Password', fg='white',bg='#0096DC')\n",
    "password_label.pack()\n",
    "password_label.config(font=('vardana',14))\n",
    "\n",
    "# Password Input\n",
    "password_input = Entry(root, width=60)\n",
    "password_input.pack(ipady=6,pady=(1,15))\n",
    "\n",
    "# Login Button\n",
    "login_button=Button(root,text='Login',bg='white',fg='black',width=30,height=3,command=handle_login)\n",
    "login_button.pack(pady=(10,20))\n",
    "login_button.config(font=('vardana',14))\n",
    "\n",
    "root.mainloop()"
   ]
  }
 ],
 "metadata": {
  "kernelspec": {
   "display_name": "Python 3 (ipykernel)",
   "language": "python",
   "name": "python3"
  },
  "language_info": {
   "codemirror_mode": {
    "name": "ipython",
    "version": 3
   },
   "file_extension": ".py",
   "mimetype": "text/x-python",
   "name": "python",
   "nbconvert_exporter": "python",
   "pygments_lexer": "ipython3",
   "version": "3.9.12"
  }
 },
 "nbformat": 4,
 "nbformat_minor": 5
}
